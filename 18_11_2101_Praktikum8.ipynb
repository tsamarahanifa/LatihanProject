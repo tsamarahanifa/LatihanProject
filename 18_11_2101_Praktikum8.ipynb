{
  "nbformat": 4,
  "nbformat_minor": 0,
  "metadata": {
    "colab": {
      "name": "18.11.2101_Praktikum8.ipynb",
      "provenance": [],
      "authorship_tag": "ABX9TyO/GBSeBiDt0/r80uCCeGOd",
      "include_colab_link": true
    },
    "kernelspec": {
      "name": "python3",
      "display_name": "Python 3"
    },
    "language_info": {
      "name": "python"
    }
  },
  "cells": [
    {
      "cell_type": "markdown",
      "metadata": {
        "id": "view-in-github",
        "colab_type": "text"
      },
      "source": [
        "<a href=\"https://colab.research.google.com/github/tsamarahanifa/LatihanProject/blob/master/18_11_2101_Praktikum8.ipynb\" target=\"_parent\"><img src=\"https://colab.research.google.com/assets/colab-badge.svg\" alt=\"Open In Colab\"/></a>"
      ]
    },
    {
      "cell_type": "markdown",
      "metadata": {
        "id": "U2tsix0J6KMX"
      },
      "source": [
        "#PHYTON FUNDAMENTAL"
      ]
    },
    {
      "cell_type": "markdown",
      "metadata": {
        "id": "8gVyptiF6VI8"
      },
      "source": [
        "Tugas Tori BDL \n",
        "#NAMA  : TSAMARA HANIFA ARFAN\n",
        "#NIM   : 18.11.2101\n",
        "#KELAS : 18 INFORMATIKA 05"
      ]
    },
    {
      "cell_type": "code",
      "metadata": {
        "id": "6BQ224ygsiWb",
        "colab": {
          "base_uri": "https://localhost:8080/"
        },
        "outputId": "bce6565b-a6eb-4960-f71f-90feb685656a"
      },
      "source": [
        "#Terdapat suatu kelas dan objek\n",
        "class Dog:\n",
        "     \n",
        "    # deklarasi variabel yang akan digunakan \n",
        "    attr1 = \"mammal\"\n",
        "    attr2 = \"dog\"\n",
        " \n",
        "    # deklarasi fungsi yang akan digunakan\n",
        "    def fun(self):\n",
        "        print( self.attr1)\n",
        "        print(\"I'm a\", self.attr2)\n",
        " \n",
        "# deklarasi variabel class dog()\n",
        "Rodger = Dog()\n",
        " \n",
        "# melakukan print pada class dog yang memiliki variabel attr1 = dengan output mammal\n",
        "print(Rodger.attr1)\n",
        "\n",
        "# melakukan print pada fungsi yang diakses di kelas fun = hasil outpul mammal dan i'm a dog\n",
        "Rodger.fun()"
      ],
      "execution_count": null,
      "outputs": [
        {
          "output_type": "stream",
          "text": [
            "mammal\n",
            "mammal\n",
            "I'm a dog\n"
          ],
          "name": "stdout"
        }
      ]
    },
    {
      "cell_type": "code",
      "metadata": {
        "colab": {
          "base_uri": "https://localhost:8080/"
        },
        "id": "e_RPcomAs9G7",
        "outputId": "cd493d27-3d00-43cc-a5cc-a2813c6bcf6e"
      },
      "source": [
        "class Person:\n",
        "   \n",
        "    # mendefinisikan method init di dalam fungsi person (konstruktor)\n",
        "    def __init__(self, name):\n",
        "        self.name = name\n",
        "   \n",
        "    # mendefinisikan fungsi say_hi dengan parameter self (fungsi say_hi)\n",
        "    def say_hi(self):\n",
        "        print('Hello, my name is', self.name)\n",
        "   \n",
        "p = Person('Nikhil')\n",
        "p.say_hi()"
      ],
      "execution_count": null,
      "outputs": [
        {
          "output_type": "stream",
          "text": [
            "Hello, my name is Nikhil\n"
          ],
          "name": "stdout"
        }
      ]
    },
    {
      "cell_type": "code",
      "metadata": {
        "colab": {
          "base_uri": "https://localhost:8080/"
        },
        "id": "_64aSTXttVsF",
        "outputId": "e500a5ac-162c-447a-8341-70c2d2b7ba44"
      },
      "source": [
        "# mendefinisikan class employee dengan parameter empCount dengan nilai awal yaitu 0 (Kelas employee)\n",
        "class Employee:\n",
        "   'Common base class for all employees'\n",
        "   empCount = 0\n",
        "\n",
        "   def __init__(self, name, salary): # mendeklarasikan fungsi init, dengan menetapkan nilai untuk name dan salary (konstruktor)\n",
        "      self.name = name\n",
        "      self.salary = salary\n",
        "      Employee.empCount += 1\n",
        "   \n",
        "   def displayCount(self): # membuat fungsi untuk menghitung jumlah employee yang parameter nya di ambil dari fungsi init (fungsi display count)\n",
        "     print (\"Total Employee %d\" %Employee.empCount)\n",
        "\n",
        "   def displayEmployee(self): # membuat fungsi untuk menampilkan data employee yang parameter nya di ambil dari fungsi init (fungsi display count)\n",
        "      print (\"Name : \", self.name,  \", Salary: \", self.salary)\n",
        "\n",
        "# deklarasi variabel emp1 dan emp2 dengan kelas Employee\n",
        "emp1 = Employee(\"Zara\", 2000)\n",
        "emp2 = Employee(\"Manni\", 5000)\n",
        "# pemanggilan fungsi pada kelas emp1 dan emp2\n",
        "emp1.displayEmployee()\n",
        "emp2.displayEmployee()\n",
        "# melakukan print untuk mencetak jumoah employee\n",
        "print (\"Total Employee %d\" %Employee.empCount)"
      ],
      "execution_count": null,
      "outputs": [
        {
          "output_type": "stream",
          "text": [
            "Name :  Zara , Salary:  2000\n",
            "Name :  Manni , Salary:  5000\n",
            "Total Employee 2\n"
          ],
          "name": "stdout"
        }
      ]
    },
    {
      "cell_type": "code",
      "metadata": {
        "colab": {
          "base_uri": "https://localhost:8080/"
        },
        "id": "XGlTVxOKt6V4",
        "outputId": "2e7ff879-b311-42d3-ce95-55a0a9c1cd4c"
      },
      "source": [
        "class Mobil :\n",
        "\n",
        "  jumlah_mobil=0\n",
        "\n",
        "  def __init__(self, nopolisi, merk, jenis):\n",
        "      self.nopolisi=nopolisi\n",
        "      self.merk=merk\n",
        "      self.jenis=jenis\n",
        "      Mobil.jumlah_mobil +=1\n",
        "\n",
        "  def tampilkan_jumlah(self):\n",
        "    print(\"Total Mobil = \", Mobil.jumlah_mobil)\n",
        "\n",
        "  def tampilkan(self):\n",
        "    print(\"No POLISI = \", self.nopolisi)\n",
        "    print(\"MERK = \", self.merk)\n",
        "    print(\"JENIS \", self.jenis)\n",
        "\n",
        "#Deklarasi variabel m1 dan m2 dengan kelas Mobil\n",
        "m1 = Mobil(\"AB 1234 BX\", \"Toyota\", \"Minibus\")\n",
        "m2 = Mobil(\"AB 1 BX\", \"Lexus\", \"Sedan\")\n",
        "\n",
        "#Pemanggilan fungsi pada kelas m1 dan m2\n",
        "m1.tampilkan()\n",
        "print(\"-----------------------\")\n",
        "m2.tampilkan()\n",
        "print(\"-----------------------\")\n",
        "\n",
        "#Melakukan print untuk mencetak jumlah mobil\n",
        "print(\"Total Mobil = \", Mobil.jumlah_mobil)"
      ],
      "execution_count": null,
      "outputs": [
        {
          "output_type": "stream",
          "text": [
            "No POLISI =  AB 1234 BX\n",
            "MERK =  Toyota\n",
            "JENIS  Minibus\n",
            "-----------------------\n",
            "No POLISI =  AB 1 BX\n",
            "MERK =  Lexus\n",
            "JENIS  Sedan\n",
            "-----------------------\n",
            "Total Mobil =  2\n"
          ],
          "name": "stdout"
        }
      ]
    }
  ]
}