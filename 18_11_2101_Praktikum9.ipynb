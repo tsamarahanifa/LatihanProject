{
  "nbformat": 4,
  "nbformat_minor": 0,
  "metadata": {
    "colab": {
      "name": "18.11.2101_Praktikum9.ipynb",
      "provenance": [],
      "authorship_tag": "ABX9TyMa3NPom+HSHeRjCIYWo/iV",
      "include_colab_link": true
    },
    "kernelspec": {
      "name": "python3",
      "display_name": "Python 3"
    },
    "language_info": {
      "name": "python"
    }
  },
  "cells": [
    {
      "cell_type": "markdown",
      "metadata": {
        "id": "view-in-github",
        "colab_type": "text"
      },
      "source": [
        "<a href=\"https://colab.research.google.com/github/tsamarahanifa/LatihanProject/blob/master/18_11_2101_Praktikum9.ipynb\" target=\"_parent\"><img src=\"https://colab.research.google.com/assets/colab-badge.svg\" alt=\"Open In Colab\"/></a>"
      ]
    },
    {
      "cell_type": "markdown",
      "metadata": {
        "id": "NXETlny_KrdT"
      },
      "source": [
        "#NAMA : TSAMARA HANIFA ARFAN \n",
        "#NIM : 18.11.2101\n",
        "#KELAS : INFORMAATIKA 05"
      ]
    },
    {
      "cell_type": "markdown",
      "metadata": {
        "id": "PT7l-bP_r9O7"
      },
      "source": [
        "# PRAKTKUM BDL Python : (Tipe Data, Operator, Fungsi, Class & Object)"
      ]
    },
    {
      "cell_type": "markdown",
      "metadata": {
        "id": "M8RT2x1aKyBo"
      },
      "source": [
        "KOMPETENSI 1 TIPE DATA  "
      ]
    },
    {
      "cell_type": "markdown",
      "metadata": {
        "id": "UDzGflP4LC7M"
      },
      "source": [
        "LATIHAN 1.1 "
      ]
    },
    {
      "cell_type": "markdown",
      "metadata": {
        "id": "iQ4CxJNqLYgk"
      },
      "source": [
        "1. Berapakah nilai bilangan tipe data integer pada nilai desimal 3.14? tuliskan fungsi dalam melakukan konversinya!"
      ]
    },
    {
      "cell_type": "code",
      "metadata": {
        "colab": {
          "base_uri": "https://localhost:8080/"
        },
        "id": "AIwt0-EAL9h3",
        "outputId": "1babee80-f65c-4098-ab30-4632bdbaf302"
      },
      "source": [
        "#Deklarasi 3.14 adalah tipe data float\n",
        "float = 3.14\n",
        "\n",
        "#Function untuk konversi ke integer\n",
        "int(float)"
      ],
      "execution_count": null,
      "outputs": [
        {
          "output_type": "execute_result",
          "data": {
            "text/plain": [
              "3"
            ]
          },
          "metadata": {
            "tags": []
          },
          "execution_count": 3
        }
      ]
    },
    {
      "cell_type": "code",
      "metadata": {
        "colab": {
          "base_uri": "https://localhost:8080/"
        },
        "id": "x6LPAGBGMuVV",
        "outputId": "86ca45e9-35ae-448c-b346-f143864df553"
      },
      "source": [
        "#Deklarasi tipe data float\n",
        "i= 3.14\n",
        "print(i, 'tipe data:',\n",
        "     type(i).__name__)\n",
        "\n",
        "#Function pertama untuk konversi float -> integer\n",
        "i = int(i)\n",
        "\n",
        "#Output untuk menampilkan hasil konversi\n",
        "print('Hasil konversi:', i, 'dengan tipe data:', type(i).__name__)"
      ],
      "execution_count": null,
      "outputs": [
        {
          "output_type": "stream",
          "text": [
            "3.14 tipe data: float\n",
            "Hasil konversi: 3 dengan tipe data: int\n"
          ],
          "name": "stdout"
        }
      ]
    },
    {
      "cell_type": "code",
      "metadata": {
        "colab": {
          "base_uri": "https://localhost:8080/"
        },
        "id": "Ay1RxKacM8JH",
        "outputId": "b714e8a3-2533-4f0a-9aca-4210a34b7776"
      },
      "source": [
        "#fungsi kedua untuk konversi float -> integer\n",
        "def konversi(nilai):\n",
        "    nilai= int(nilai)\n",
        "    print (nilai)\n",
        "\n",
        "konversi(3.14)"
      ],
      "execution_count": null,
      "outputs": [
        {
          "output_type": "stream",
          "text": [
            "3\n"
          ],
          "name": "stdout"
        }
      ]
    },
    {
      "cell_type": "markdown",
      "metadata": {
        "id": "U09zk7yQMNKy"
      },
      "source": [
        "2. tipe data tuple sama seperti list namun tidak dapat diubah, namun bagaimanakah cara untuk tetap ingin mengubah variable tipe data tuple dibawah?\n",
        "daftar_tuple = {1,2,3,4}\n",
        "Menjadi\n",
        "daftar_tuple = {4,3,2,1}"
      ]
    },
    {
      "cell_type": "code",
      "metadata": {
        "colab": {
          "base_uri": "https://localhost:8080/"
        },
        "id": "wtsP75hGMC3Z",
        "outputId": "d19155f9-2862-48b1-f46c-869f67ce8002"
      },
      "source": [
        "#Saftar tuple\n",
        "daftar_tuple={1,2,3,4}\n",
        "\n",
        "#mengubah variabel tipe data tuple menjadi \n",
        "daftar_tuple_new =tuple(sorted(daftar_tuple,reverse=True))\n",
        "print(\"daftar_tuple=\",daftar_tuple_new)"
      ],
      "execution_count": null,
      "outputs": [
        {
          "output_type": "stream",
          "text": [
            "daftar_tuple= (4, 3, 2, 1)\n"
          ],
          "name": "stdout"
        }
      ]
    },
    {
      "cell_type": "markdown",
      "metadata": {
        "id": "-cv_xWNVNlKv"
      },
      "source": [
        " 3. Terdapat variable dengan bentuk tipe data dict berikut :\n",
        "anggota = { nama: “Angga”, umur: 25 }\n",
        "Tuliskan langkah dalam mengubah umur menjadi 25 tahun (terdapat kata “tahun”) !"
      ]
    },
    {
      "cell_type": "code",
      "metadata": {
        "colab": {
          "base_uri": "https://localhost:8080/"
        },
        "id": "WtgnudhNNoju",
        "outputId": "a47f6061-b5d3-4dcf-882e-432d3f60dcad"
      },
      "source": [
        "#Deklarasi variable anggota\n",
        "anggota = {\"nama\" : \"Angga\", \"Umur\" : 25}\n",
        "\n",
        "#Mengubah value pada element Umur menjadi tipe data string, lalu menambahkan kata \" tahun\"\n",
        "anggota[\"Umur\"] = str(anggota[\"Umur\"]) + (\" tahun\")\n",
        "\n",
        "#Print out hasil akhir dari anggota\n",
        "print(anggota)"
      ],
      "execution_count": null,
      "outputs": [
        {
          "output_type": "stream",
          "text": [
            "{'nama': 'Angga', 'Umur': '25 tahun'}\n"
          ],
          "name": "stdout"
        }
      ]
    },
    {
      "cell_type": "markdown",
      "metadata": {
        "id": "KKDAIL2rOKXE"
      },
      "source": [
        "KESIMPULAN\n",
        "\n",
        "  Tipe data yang ada dalam bahasa Phytonj bisa dikonversikan dengan memanggil fungsi dari tipe data tersebut. \n",
        "  Tuple merupakan salah satu jenis tipe data kolektof yang berfungsi untuk menyimpalan beberapa data yang lebih dari satu nilai dalam satu variable sekaligus. tuple memiliki sifat terurut yaitu datanya bisa diakses menggunakan indeks tidak dapat diubah artinya data tersebut tidak akan bisa dirubah setelah didefinisikan pertama kali.\n",
        "  Dictionary yaitu suatu tipe data yang tidak berurutan, isinya dapat berupa collection dalam bentuk pasangan key-value."
      ]
    },
    {
      "cell_type": "markdown",
      "metadata": {
        "id": "1jw-QdxTPM5E"
      },
      "source": [
        "KOMPETENSI 2"
      ]
    },
    {
      "cell_type": "markdown",
      "metadata": {
        "id": "5Ql7o5rYPekS"
      },
      "source": [
        "1. Buat sebuah variabel dengan nama barang; tambahkan nilai 10 pada variabel barang; buat variabel kedua dengan nama barang2; tambahkan variabel barang2 dengan variabel barang; tampilkan hasilnya"
      ]
    },
    {
      "cell_type": "code",
      "metadata": {
        "colab": {
          "base_uri": "https://localhost:8080/"
        },
        "id": "NiFrVMXpPomx",
        "outputId": "1bd33c8e-e13a-4fb0-eeb9-e6608e442a5d"
      },
      "source": [
        "#Mendeklarasikan sebuah variabel \n",
        "#variabel barang bernilai 10\n",
        "Barang = 10 \n",
        "\n",
        "#variabel barang 2 bernama berisi variabel barang yang bernilai 10\n",
        "Barang2 = Barang \n",
        "\n",
        "#menjumlahkan  variabel barang dan barang2\n",
        "hasil = Barang + Barang2 \n",
        "print(hasil)"
      ],
      "execution_count": null,
      "outputs": [
        {
          "output_type": "stream",
          "text": [
            "20\n"
          ],
          "name": "stdout"
        }
      ]
    },
    {
      "cell_type": "markdown",
      "metadata": {
        "id": "es2gK0K5QA0d"
      },
      "source": [
        "2. Tampilkan rumus dalam pencarian luas lingkaran dengan nilai phi 3,14 pada jari-jari lingkarang sepanjang 7 cm !"
      ]
    },
    {
      "cell_type": "code",
      "metadata": {
        "colab": {
          "base_uri": "https://localhost:8080/"
        },
        "id": "DrptW4zEQFG4",
        "outputId": "750937a4-d1c4-4de7-a828-490f2972ca81"
      },
      "source": [
        "#Mendeklarasikan variabel\n",
        "#Variabel volume = 25000 Liter\n",
        "phi = 3.14\n",
        "\n",
        "#Variabel dabit = 20 l/mnt\n",
        "r = 7\n",
        "\n",
        "#Kapasitas kolam diisi 75%\n",
        "luas = phi * r **2\n",
        "print(\"Luas lingkaran : \"+ str(luas))"
      ],
      "execution_count": null,
      "outputs": [
        {
          "output_type": "stream",
          "text": [
            "Luas lingkaran : 153.86\n"
          ],
          "name": "stdout"
        }
      ]
    },
    {
      "cell_type": "markdown",
      "metadata": {
        "id": "A7gwCwltQidH"
      },
      "source": [
        "KESIMPULAN \n",
        "\n",
        "  Variabel pada Phyton dapat melakukan operasi perhitungan jika variabel tersebut memiliki nilai, dan menampilkan error apabila variabel tidak memiliki nilai. \n",
        "  variabel yang terdapat pada phyton juga bisa membaca otomatis tipe data pada sebuah nilai variabel yang diberikan tanpa mendifinisikan terlebih dahulu jenis tipe data."
      ]
    },
    {
      "cell_type": "markdown",
      "metadata": {
        "id": "cHlc3TIcRdzc"
      },
      "source": [
        "KOMPETENSI 3 "
      ]
    },
    {
      "cell_type": "markdown",
      "metadata": {
        "id": "7zLUyZNzRjBK"
      },
      "source": [
        "3.A FUNGSI"
      ]
    },
    {
      "cell_type": "markdown",
      "metadata": {
        "id": "fcdiJzztRnKf"
      },
      "source": [
        "1. Apa yang dimaksud fungsi dalam phyton? sebutkan contoh dalam pendeklarasian suatu fungsi!"
      ]
    },
    {
      "cell_type": "markdown",
      "metadata": {
        "id": "PJLVNjg4R1So"
      },
      "source": [
        "Fungsi pada python yaitu sekumpulan perintah atau baris kode yang dikelompokkan menjadi satu kesatuan yang kemudian bisa dipanggil atau digunakan berkali-kali.\n",
        "\n",
        "contohnya:"
      ]
    },
    {
      "cell_type": "code",
      "metadata": {
        "colab": {
          "base_uri": "https://localhost:8080/"
        },
        "id": "c-TqMxGbSFxq",
        "outputId": "237b2286-50b3-4988-b7d3-4f1e04e87c09"
      },
      "source": [
        "#Melakukan deklarasi nama \n",
        "def Nm(nama): \n",
        "    \"\"\"Fungsi ini untuk menyapa seseorang sesuai nama yang dimasukkan sebagai parameter\"\"\" \n",
        "    print(\"Hi, \" + nama + \". How are you?\") \n",
        "\n",
        "# pemanggilan fungsi \n",
        "Nm('Tsamara') "
      ],
      "execution_count": null,
      "outputs": [
        {
          "output_type": "stream",
          "text": [
            "Hi, Tsamara. How are you?\n"
          ],
          "name": "stdout"
        }
      ]
    },
    {
      "cell_type": "markdown",
      "metadata": {
        "id": "o3cRWUCNSa-K"
      },
      "source": [
        "2. Terdapat 2 jenis fungsi dalam bahasa Python, sebutkan dan jelaskan !"
      ]
    },
    {
      "cell_type": "markdown",
      "metadata": {
        "id": "2Qrw4BJ1S_Fl"
      },
      "source": [
        "1. Fungsi yang telah dibuat/disediakan atau biasa kita sebut sebagai built in function. contoh: print() adalah function bawaan Python yang sering digunakan.\n",
        "2. Fungsi yang dibuat oleh pengembang (user defined function). Fungsi yang ditentukan pengguna adalah fungsi yang dibuat dengan kata kunci def.\n",
        "contoh:\n",
        "def hi_tsamara():\n",
        "  print(\"Hai tsamara\");\n",
        " hi_tsamara()"
      ]
    },
    {
      "cell_type": "markdown",
      "metadata": {
        "id": "sDSUapOoTqEH"
      },
      "source": [
        "KESIMPULAN\n",
        "\n",
        "memahami fungsi dari bahasa phyton. fungsi sendiri merupakan bagian dari program yang dapat digunakan ulang. mengetahui serta memahami macam penggunaan fungsi, serta mempraktikkannya."
      ]
    },
    {
      "cell_type": "markdown",
      "metadata": {
        "id": "qWAVOPVCUWGw"
      },
      "source": [
        "3.B IMPLEMENTASI FUNGSI"
      ]
    },
    {
      "cell_type": "markdown",
      "metadata": {
        "id": "-Qe8p87BUbkl"
      },
      "source": [
        "Latihan 3.2 Diberikan kasus masalah, silahkan buat sebuah program (bentuk program bebas) dalam menghitung estimasi biaya penjualan barang dengan spesifikasi sebagai berikut :\n",
        "\n",
        "1. Input parameter biaya harus lebih dari 0\n",
        "2. Output berupa nilai biaya penjualan ditambahkan dengan total pajak yang harus dibayarkan.\n",
        "3. Total pajak yang harus dibayarkan adalah 10% dari total barang"
      ]
    },
    {
      "cell_type": "code",
      "metadata": {
        "colab": {
          "base_uri": "https://localhost:8080/"
        },
        "id": "EOIznuNCUwkU",
        "outputId": "dd47a87e-ae17-4513-b089-1dcee2ac0ad6"
      },
      "source": [
        "#Membuat program Estimasi penjualan barang\n",
        "def jual(biaya): #mendeklarasilan penjualan\n",
        "  if biaya > 0:\n",
        "    pajak = biaya * 0.1\n",
        "    total = biaya + pajak\n",
        "    print(\"Biaya = \", biaya) \n",
        "    print(\"Pajak 10% = \", pajak)\n",
        "    print(\"Total Biaya = \", total)\n",
        "  elif biaya < 0:\n",
        "    print(\"Biaya yang Harus diatas adalah 0\")\n",
        "\n",
        "#Biaya diatas 0\n",
        "jual(30000)\n",
        "\n",
        "print(\"\\n\")\n",
        "\n",
        "#Biaya dibawah 0\n",
        "jual(-3000)"
      ],
      "execution_count": null,
      "outputs": [
        {
          "output_type": "stream",
          "text": [
            "Biaya =  30000\n",
            "Pajak 10% =  3000.0\n",
            "Total Biaya =  33000.0\n",
            "\n",
            "\n",
            "Biaya yang Harus diatas adalah 0\n"
          ],
          "name": "stdout"
        }
      ]
    },
    {
      "cell_type": "markdown",
      "metadata": {
        "id": "pQlw59V6VKpe"
      },
      "source": [
        "KESIMPULAN \n",
        "\n",
        "Dapat mengimplementasikan sebuah kasys menggunakan fungsi pada phyton"
      ]
    },
    {
      "cell_type": "markdown",
      "metadata": {
        "id": "OMQloDFidIQj"
      },
      "source": [
        "3.C CLASS DAN OBJECT  "
      ]
    },
    {
      "cell_type": "markdown",
      "metadata": {
        "id": "i5pE04O2dUzA"
      },
      "source": [
        "diberikan kasus masalah, silahkan buat sebuah program dalam menghitung estimasi biaya penjualan barang dengan mengimplementasikan bentuk Class dan Object dengan spesifikasi sebagai berikut :\n",
        "\n",
        "1. Input parameter pada class adalah nama barang dan harga\n",
        "2. Output berupa nilai biaya penjualan ditambahkan dengan total pajak 10% dari harga barang yang harus dibayarkan.\n",
        "3. Apabila total biaya penjualan suatu barang (tidak termasuk pajak) diatas 100.000 maka akan diberikan potongan (diluar pajak) sebesar 5% dari total biaya suatu barang.\n",
        "4. Pada class yang dibuat, wajib mendifinisikan bentuk dari construktor beserta method dalam melakukan kalkulasi"
      ]
    },
    {
      "cell_type": "code",
      "metadata": {
        "colab": {
          "base_uri": "https://localhost:8080/"
        },
        "id": "4MhMDJdzdx0c",
        "outputId": "d02f1280-cf85-448f-839e-ceac8dacae50"
      },
      "source": [
        "#Membuat program menghitung estimasi biaya penjualan barang dengan\n",
        "#mengimplementasikan bentuk class dan object\n",
        "class jual: #nama class yakni penjualan\n",
        "\n",
        "  def __init__(self, name, harga):\n",
        "    self.name = name\n",
        "    self.harga = harga\n",
        "  \n",
        "  def tampilkan(self):\n",
        "    print(\"Nama Barang :\", self.name, \"\\nHarga : \", self.harga)\n",
        "  def hitung(self):\n",
        "    if self.harga > 100000:\n",
        "      pajak = self.harga * 0.1\n",
        "      potongan = self.harga * 0.05\n",
        "      total = self.harga + pajak - potongan\n",
        "      print(\"Pajak 10% = \", pajak)\n",
        "      print(\"Diskon 5% = \", potongan)\n",
        "      print(\"Total Harga barang = \", total)\n",
        "    elif self.harga < 100000:\n",
        "      pajak = self.harga * 0.1\n",
        "      total = self.harga + pajak\n",
        "      print(\"Pajak 10% = \", pajak)\n",
        "      print(\"Total Harga barang = \", total)\n",
        "\n",
        "#Barang dibawah 100000\n",
        "biaya = jual(\"totbag\", 50000)\n",
        "biaya.tampilkan()\n",
        "biaya.hitung()\n",
        "\n",
        "print(\"\\n\") #memanggil dan menampilkan\n",
        "\n",
        "#Barang diatas 100000\n",
        "biaya1 = jual(\"ransel\", 120000)\n",
        "biaya1.tampilkan()\n",
        "biaya1.hitung()"
      ],
      "execution_count": null,
      "outputs": [
        {
          "output_type": "stream",
          "text": [
            "Nama Barang : totbag \n",
            "Harga :  50000\n",
            "Pajak 10% =  5000.0\n",
            "Total Harga barang =  55000.0\n",
            "\n",
            "\n",
            "Nama Barang : ransel \n",
            "Harga :  120000\n",
            "Pajak 10% =  12000.0\n",
            "Diskon 5% =  6000.0\n",
            "Total Harga barang =  126000.0\n"
          ],
          "name": "stdout"
        }
      ]
    },
    {
      "cell_type": "markdown",
      "metadata": {
        "id": "Xb09hpFTe5Tm"
      },
      "source": [
        "KESIMPULAN \n",
        "\n",
        "  OOP adalah suatu metode dalam pemrograman yang berorientasi pada suatu objek, yang memiliki ciri atau attribut dan juga aksi  / kelakukuan (behavior).\n",
        "  CLASS yang terdapat dalam phyton dapat dibilang sebuah prototipe dari suatu objek / instance yang ingin dibuat.\n",
        "  VARIABEL kelas merupakan cetakan atau definisinya, sedangkan OBJEK atau instance merupakan objek nyata. "
      ]
    }
  ]
}