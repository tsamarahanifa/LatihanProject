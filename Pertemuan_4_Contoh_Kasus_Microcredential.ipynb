{
  "nbformat": 4,
  "nbformat_minor": 0,
  "metadata": {
    "kernelspec": {
      "display_name": "Python 3",
      "language": "python",
      "name": "python3"
    },
    "language_info": {
      "codemirror_mode": {
        "name": "ipython",
        "version": 3
      },
      "file_extension": ".py",
      "mimetype": "text/x-python",
      "name": "python",
      "nbconvert_exporter": "python",
      "pygments_lexer": "ipython3",
      "version": "3.8.8"
    },
    "colab": {
      "name": "Pertemuan 4_Contoh Kasus_Microcredential.ipynb",
      "private_outputs": true,
      "provenance": [],
      "include_colab_link": true
    },
    "accelerator": "GPU"
  },
  "cells": [
    {
      "cell_type": "markdown",
      "metadata": {
        "id": "view-in-github",
        "colab_type": "text"
      },
      "source": [
        "<a href=\"https://colab.research.google.com/github/tsamarahanifa/LatihanProject/blob/master/Pertemuan_4_Contoh_Kasus_Microcredential.ipynb\" target=\"_parent\"><img src=\"https://colab.research.google.com/assets/colab-badge.svg\" alt=\"Open In Colab\"/></a>"
      ]
    },
    {
      "cell_type": "markdown",
      "metadata": {
        "id": "fKj21OU4CkQv"
      },
      "source": [
        "![header%20ipynb.png](attachment:header%20ipynb.png)"
      ]
    },
    {
      "cell_type": "markdown",
      "metadata": {
        "id": "mI7_0icBCkQz"
      },
      "source": [
        "# Hands-On\n",
        "Hands-On ini digunakan pada kegiatan Microcredential Associate Data Scientist 2021"
      ]
    },
    {
      "cell_type": "markdown",
      "metadata": {
        "id": "7bBj-zw9CkQz"
      },
      "source": [
        "## Memulai Python!"
      ]
    },
    {
      "cell_type": "markdown",
      "metadata": {
        "id": "-ODBd5ZSCkQ0"
      },
      "source": [
        "Dapat menuliskan keterangan kode menggunakan _Markdown_"
      ]
    },
    {
      "cell_type": "code",
      "metadata": {
        "id": "qkBKeql2CkQ0"
      },
      "source": [
        "print(\"Hello world!\")   # mode skrip"
      ],
      "execution_count": null,
      "outputs": []
    },
    {
      "cell_type": "code",
      "metadata": {
        "id": "kjbM6C_FCkQ2"
      },
      "source": [
        "height = 1.84"
      ],
      "execution_count": null,
      "outputs": []
    },
    {
      "cell_type": "code",
      "metadata": {
        "id": "GdRl1F30CkQ2"
      },
      "source": [
        "tall = True"
      ],
      "execution_count": null,
      "outputs": []
    },
    {
      "cell_type": "code",
      "metadata": {
        "id": "xojtZfAICkQ3"
      },
      "source": [
        "height1 = 1.84"
      ],
      "execution_count": null,
      "outputs": []
    },
    {
      "cell_type": "code",
      "metadata": {
        "id": "wxWQges3CkQ3"
      },
      "source": [
        "height2 = 1.79"
      ],
      "execution_count": null,
      "outputs": []
    },
    {
      "cell_type": "code",
      "metadata": {
        "id": "ZP1WlqJtCkQ4"
      },
      "source": [
        "height3 = 1.82"
      ],
      "execution_count": null,
      "outputs": []
    },
    {
      "cell_type": "code",
      "metadata": {
        "id": "rusPaOkrCkQ4"
      },
      "source": [
        "height4 = 1.90"
      ],
      "execution_count": null,
      "outputs": []
    },
    {
      "cell_type": "markdown",
      "metadata": {
        "id": "OVXyUjQyCkQ5"
      },
      "source": [
        "<b>Masalah</b> : \n",
        "- Terlalu banyak data masukan untuk tipe data yang sama\n",
        "- Tidak nyaman\n",
        "- Solusi: Python List\n"
      ]
    },
    {
      "cell_type": "code",
      "metadata": {
        "id": "X4wFKQNICkQ5"
      },
      "source": [
        "[1.84, 1.79, 1.82, 1.90, 1.80]\n"
      ],
      "execution_count": null,
      "outputs": []
    },
    {
      "cell_type": "code",
      "metadata": {
        "id": "9eSqgBkKCkQ5"
      },
      "source": [
        "height = [1.84, 1.79, 1.82, 1.90, 1.80]"
      ],
      "execution_count": null,
      "outputs": []
    },
    {
      "cell_type": "code",
      "metadata": {
        "id": "lKTh-kdVCkQ6"
      },
      "source": [
        "height"
      ],
      "execution_count": null,
      "outputs": []
    },
    {
      "cell_type": "code",
      "metadata": {
        "id": "yWMQrYC-CkQ6"
      },
      "source": [
        "famz = [\"Abe\", 1.84, \"Beb\", 1.79, \"Cory\", 1.82, \"Dad\", 1.90]\n"
      ],
      "execution_count": null,
      "outputs": []
    },
    {
      "cell_type": "code",
      "metadata": {
        "id": "dcgFM3gYCkQ7"
      },
      "source": [
        "famz"
      ],
      "execution_count": null,
      "outputs": []
    },
    {
      "cell_type": "code",
      "metadata": {
        "id": "Iv-eJ9xECkQ7"
      },
      "source": [
        "weight = [66.5, 60.3, 64.7, 89.5, 69.8] "
      ],
      "execution_count": null,
      "outputs": []
    },
    {
      "cell_type": "code",
      "metadata": {
        "id": "19zYCJbxCkQ7"
      },
      "source": [
        "weight"
      ],
      "execution_count": null,
      "outputs": []
    },
    {
      "cell_type": "code",
      "metadata": {
        "id": "LBEyY3OeCkQ7"
      },
      "source": [
        "weight / height ** 2 "
      ],
      "execution_count": null,
      "outputs": []
    },
    {
      "cell_type": "markdown",
      "metadata": {
        "id": "YBPcRnMxCkQ8"
      },
      "source": [
        "### Solusi: NumPy \n",
        "- Library dasar untuk perhitungan saintifik (scientific computing) dengan Python (https://numpy.org/)\n",
        "- Alternatif untuk Python List: Numpy Array untuk n-dimensi\n",
        "- Mudah digunakan dan bersifat open source\n",
        "- Jika library belum terpasang, tuliskan perintah instalasi: _pip install numpy_\n",
        "- Kemudian impor: _import numpy as np_\n"
      ]
    },
    {
      "cell_type": "code",
      "metadata": {
        "id": "tjFDwrV0CkQ8"
      },
      "source": [
        "import numpy as np"
      ],
      "execution_count": null,
      "outputs": []
    },
    {
      "cell_type": "code",
      "metadata": {
        "id": "tGi4yjAwCkQ8"
      },
      "source": [
        "np_height = np.array(height)"
      ],
      "execution_count": null,
      "outputs": []
    },
    {
      "cell_type": "code",
      "metadata": {
        "id": "Nt1SuYpdCkQ8"
      },
      "source": [
        "np_height "
      ],
      "execution_count": null,
      "outputs": []
    },
    {
      "cell_type": "code",
      "metadata": {
        "id": "vMDdQdogCkQ9"
      },
      "source": [
        "np_weight = np.array(weight)"
      ],
      "execution_count": null,
      "outputs": []
    },
    {
      "cell_type": "code",
      "metadata": {
        "id": "gOWc-hvkCkQ9"
      },
      "source": [
        "np_weight"
      ],
      "execution_count": null,
      "outputs": []
    },
    {
      "cell_type": "code",
      "metadata": {
        "id": "jMBlSgf3CkQ9"
      },
      "source": [
        "bmi = np_weight / np_height ** 2"
      ],
      "execution_count": null,
      "outputs": []
    },
    {
      "cell_type": "code",
      "metadata": {
        "id": "nXvVlDjLCkQ9"
      },
      "source": [
        "bmi"
      ],
      "execution_count": null,
      "outputs": []
    },
    {
      "cell_type": "markdown",
      "metadata": {
        "id": "agpYtjM0CkQ9"
      },
      "source": [
        "Untuk melihat fungsi lain pada NumPy, gunakan perintah _np.< TAB >_"
      ]
    },
    {
      "cell_type": "code",
      "metadata": {
        "id": "ZeF_DO1XCkQ-"
      },
      "source": [
        "np.tab"
      ],
      "execution_count": null,
      "outputs": []
    },
    {
      "cell_type": "code",
      "metadata": {
        "id": "sZjvav-hCkQ-"
      },
      "source": [
        "np_height = np.array([1.84, 1.79, 1.82, 1.9, 1.8])"
      ],
      "execution_count": null,
      "outputs": []
    },
    {
      "cell_type": "code",
      "metadata": {
        "id": "KFC3g9TjCkQ-"
      },
      "source": [
        "np_weight = np.array([66.5, 60.3, 64.7, 89.5, 69.8])"
      ],
      "execution_count": null,
      "outputs": []
    },
    {
      "cell_type": "code",
      "metadata": {
        "id": "epdPGoUECkQ-"
      },
      "source": [
        "type(np_height)"
      ],
      "execution_count": null,
      "outputs": []
    },
    {
      "cell_type": "code",
      "metadata": {
        "id": "oHt1RzlSCkQ-"
      },
      "source": [
        "type(np_weight)"
      ],
      "execution_count": null,
      "outputs": []
    },
    {
      "cell_type": "code",
      "metadata": {
        "id": "9P8rCd6RCkQ_"
      },
      "source": [
        "np_2d = np.array([[1, 2, 3, 4, 5], [6, 7, 8, 9, 10]])"
      ],
      "execution_count": null,
      "outputs": []
    },
    {
      "cell_type": "code",
      "metadata": {
        "id": "XyDahw8ACkQ_"
      },
      "source": [
        "np_2d"
      ],
      "execution_count": null,
      "outputs": []
    },
    {
      "cell_type": "code",
      "metadata": {
        "id": "uGrbd3CyCkQ_"
      },
      "source": [
        "np_2d.shape"
      ],
      "execution_count": null,
      "outputs": []
    },
    {
      "cell_type": "markdown",
      "metadata": {
        "id": "hiZU3b_PCkQ_"
      },
      "source": [
        "### SciPy\n",
        "\n",
        "- SciPy (dibaca “Sigh Pie”) merupakan library yang bersifat open source dan tersedia di https://www.scipy.org/ \n",
        "- SciPy dibangun untuk untuk bekerja dengan NumPy array dan menyediakan kumpulan algoritma numerik, termasuk pemrosesan sinyal, optimasi, statistika, dan library Matplotlib untuk visualisasi data. \n",
        "- Jika library belum terpasang, tuliskan perintah instalasi: _pip install scipy_"
      ]
    },
    {
      "cell_type": "markdown",
      "metadata": {
        "id": "MTRraNe4CkRB"
      },
      "source": [
        "### Pandas\n",
        "\n",
        "- Pandas (Panel Data) merupakan library popular di Python yang digunakan untuk data structure dan data analysis\n",
        "- Bersifat open source dan tersedia di https://pandas.pydata.org/ \n",
        "- Pandas sangat berkaitan dengan NumPy\n",
        "- Jika library belum terpasang, tuliskan perintah instalasi: _pip install pandas_\n",
        "- Kemudian impor: _import pandas as pd_"
      ]
    },
    {
      "cell_type": "code",
      "metadata": {
        "id": "_yJo8a_cCkRB"
      },
      "source": [
        "#  series\n",
        "np.array([1, 2, 3, 4, 5])"
      ],
      "execution_count": null,
      "outputs": []
    },
    {
      "cell_type": "code",
      "metadata": {
        "id": "tDTNLqOYCkRB"
      },
      "source": [
        "# DataFrame\n",
        "np.array([[1, 2], [3, 4]])"
      ],
      "execution_count": null,
      "outputs": []
    },
    {
      "cell_type": "code",
      "metadata": {
        "id": "LBr9iOU5CkRB"
      },
      "source": [
        "import pandas as pd"
      ],
      "execution_count": null,
      "outputs": []
    },
    {
      "cell_type": "code",
      "metadata": {
        "id": "bIrfLuN5CkRB"
      },
      "source": [
        "Tab = pd.read_csv(\"/content/Tab.csv\")"
      ],
      "execution_count": null,
      "outputs": []
    },
    {
      "cell_type": "code",
      "metadata": {
        "id": "yfIMKRMRCkRC"
      },
      "source": [
        "Tab"
      ],
      "execution_count": null,
      "outputs": []
    },
    {
      "cell_type": "code",
      "metadata": {
        "id": "iYxVNXPJCkRC"
      },
      "source": [
        "Tab[\"Negara\"]"
      ],
      "execution_count": null,
      "outputs": []
    },
    {
      "cell_type": "code",
      "metadata": {
        "id": "bqqGpDDu-KMy"
      },
      "source": [
        ""
      ],
      "execution_count": null,
      "outputs": []
    },
    {
      "cell_type": "code",
      "metadata": {
        "id": "RGY7Oob4CkRC"
      },
      "source": [
        "Tab.Ibukota"
      ],
      "execution_count": null,
      "outputs": []
    },
    {
      "cell_type": "markdown",
      "metadata": {
        "id": "nJ1XNfd-CkRC"
      },
      "source": [
        "### Matplotlib\n",
        "\n",
        "- Matplotlib adalah library Python untuk visualisasi data dengan dua dimensi\n",
        "- Bersifat open source dan tersedia di https://matplotlib.org/ \n",
        "- Matplotlib berkaitan dengan NumPy dan Pandas\n",
        "- Jika library belum terpasang, tuliskan perintah instalasi: _pip install matplotlib_\n",
        "- Kemudian impor: _import matplotlib.pyplot as plt_"
      ]
    },
    {
      "cell_type": "code",
      "metadata": {
        "id": "iTAIt3M2CkRC"
      },
      "source": [
        "import matplotlib.pyplot as plt"
      ],
      "execution_count": null,
      "outputs": []
    },
    {
      "cell_type": "code",
      "metadata": {
        "id": "OoeRUBYvCkRC"
      },
      "source": [
        "year = [1980, 1990, 2000, 2010, 2020]"
      ],
      "execution_count": null,
      "outputs": []
    },
    {
      "cell_type": "code",
      "metadata": {
        "id": "RlL_MxzKCkRD"
      },
      "source": [
        "price = [2.5, 7.6, 9.7, 15.8, 22.9]"
      ],
      "execution_count": null,
      "outputs": []
    },
    {
      "cell_type": "code",
      "metadata": {
        "id": "XpKuyirpCkRD"
      },
      "source": [
        "plt.plot(year, price)\n",
        "plt.show()"
      ],
      "execution_count": null,
      "outputs": []
    },
    {
      "cell_type": "code",
      "metadata": {
        "id": "rbuHpSLqCkRD"
      },
      "source": [
        "plt.scatter(year,price)"
      ],
      "execution_count": null,
      "outputs": []
    },
    {
      "cell_type": "code",
      "metadata": {
        "id": "SdGEmU3KCkRD"
      },
      "source": [
        "plt.bar(year,price)"
      ],
      "execution_count": null,
      "outputs": []
    },
    {
      "cell_type": "code",
      "metadata": {
        "id": "VF8DYLIgCkRD"
      },
      "source": [
        "import seaborn as sns"
      ],
      "execution_count": null,
      "outputs": []
    },
    {
      "cell_type": "code",
      "metadata": {
        "id": "3T8byyBP-rPN"
      },
      "source": [
        "sns.barplot (x=Tab.Negara, y=Tab.Populasi) "
      ],
      "execution_count": null,
      "outputs": []
    },
    {
      "cell_type": "code",
      "metadata": {
        "id": "KWrXjxJGAo-X"
      },
      "source": [
        "sns.lineplot (x=Tab.Negara, y=Tab.Populasi) "
      ],
      "execution_count": null,
      "outputs": []
    },
    {
      "cell_type": "code",
      "metadata": {
        "id": "MFC-L7xwBMhm"
      },
      "source": [
        "plt.title (\"Populasi Penduduk Asia Tenggara\")\n",
        "plt.show ()"
      ],
      "execution_count": null,
      "outputs": []
    },
    {
      "cell_type": "code",
      "metadata": {
        "id": "t5jROkAgCKLQ"
      },
      "source": [
        ""
      ],
      "execution_count": null,
      "outputs": []
    }
  ]
}